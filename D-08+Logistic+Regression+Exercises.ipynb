{
 "cells": [
  {
   "cell_type": "markdown",
   "metadata": {},
   "source": [
    "# <span style=\"color:#F26835; font-size:34px;\" >Exercises in Logistic Regression </span>\n",
    "###### <span style=\"color:#A1A1A1;\"> By: Sigurður Baldursson, Þórhildur Þorleiksdóttir </span>\n"
   ]
  },
  {
   "cell_type": "code",
   "execution_count": null,
   "metadata": {
    "collapsed": false
   },
   "outputs": [],
   "source": [
    "# Bokeh and pylab for plotting\n",
    "from bokeh.plotting import figure, show, ColumnDataSource, output_notebook\n",
    "from bokeh.models.tools import HoverTool, BoxZoomTool, CrosshairTool, Tool\n",
    "import pylab as pl\n",
    "import numpy as np\n",
    "import pandas as pd\n",
    "import statsmodels.api as sm\n",
    "from fractions import Fraction\n",
    "output_notebook()"
   ]
  },
  {
   "cell_type": "markdown",
   "metadata": {},
   "source": [
    "## <span style=\"color:#B19B7D;\"> Exercise 1. </span>\n",
    "\n",
    "In this assignment:\n",
    "\n",
    "\n",
    "Given data on applicants who have applied for a loan (loans.csv)\n",
    "* Answer the questions:\n",
    "    * What is the probability of Axel getting a loan with:\n",
    "        * credit_score = 337.\n",
    "        * loan_amount = 50000000\n",
    "        * age = 25\n",
    "        * marital = 0\n",
    "        * health_insurance = 0\n",
    "        \n",
    "    * What is the biggest risk factor of not getting a loan ?\n",
    "\n",
    "#### Columns are:\n",
    "\n",
    "|accepted|creditscore|amount|age|marital|health_ins|creditgrade |\n",
    "|---|---|---|---|---|---|---|\n",
    "|0|365|62918001|22|1|0|A\n",
    "#### The creditgrade correspond to the creditscore points as follows:\n",
    "A = 353-400, \n",
    "\n",
    "B = 317-353, \n",
    "\n",
    "C = 281-317, \n",
    "\n",
    "D = 235-281, \n",
    "\n",
    "E = 100-235\n",
    "\n",
    "##### For this exercise you will only be using:\n",
    "\n",
    "|accepted|creditscore|amount|age|marital|health_ins |\n",
    "|---|---|---|---|---|---|\n",
    "|0|365|62918001|22|1|0|\n",
    "\n",
    "\n"
   ]
  },
  {
   "cell_type": "markdown",
   "metadata": {},
   "source": [
    "### <span style=\"color:#FF2233;\"> Steps </span>\n",
    "\n",
    "1. Read the loans.csv file\n",
    "2. Only get the columns we will be using. \n",
    "    * you can use df.loc[:,('col1','col2','col3')] into another variable or slicing.\n",
    "3. Calculate the coefficients\n",
    "4. Are there any risk factors for not getting a loan ?\n",
    "5. Calculate the probability of Axel getting a loan\n"
   ]
  },
  {
   "cell_type": "code",
   "execution_count": null,
   "metadata": {
    "collapsed": true
   },
   "outputs": [],
   "source": []
  },
  {
   "cell_type": "markdown",
   "metadata": {},
   "source": [
    "## <span style=\"color:#B19B7D;\"> Exercise 2. </span>\n",
    "\n",
    "\n",
    "#### In this assignment pretend we have lost the creditscores and we are stuck with using the categorical variable creditgrade.\n",
    "* Now you have the task to map a categorical variable into binary variables\n",
    "    * And answer the questions:\n",
    "        * What is the probability of Maria getting a loan:\n",
    "            * loan_amount = 35000000\n",
    "            * age = 55\n",
    "            * marital = 1\n",
    "            * health_insurance = 1\n",
    "            * credit_grade = B\n",
    "        * Does your credit grade have an impact ?\n",
    "        * Does the confidence interval say anything about the significance of that impact ?\n",
    "\n",
    "\n",
    "##### For this exercise you will only be using:\n",
    "\n",
    "|accepted|amount|age|marital|health_ins|creditgrade |\n",
    "|---|---|---|---|---|---|\n",
    "|0|62918001|22|1|0|A\n",
    "\n",
    "\n",
    "\n",
    "Since credit grades is a categorical variable you have to map it to 5 binary variables.\n"
   ]
  },
  {
   "cell_type": "markdown",
   "metadata": {},
   "source": [
    "### <span style=\"color:#FF2233;\"> Steps </span>\n",
    "\n",
    "1. Read the loans.csv file\n",
    "2. Only get the columns we will be using. \n",
    "    * Suggestions:\n",
    "        * You can use df.loc[:,('col1','col2','col3')] into another variable or slicing\n",
    "3. Make a frequency table for the creditgrade column before the next step.\n",
    "    * Take a look at the crosstab method in pandas.\n",
    "4. Map the creditgrade column: A,B,C,D,E to five binary variables and join them to the dataframe\n",
    "    * Suggestions: \n",
    "        * pandas get_dummies method creates a new DataFrame with binary indicator variables for each category/option in the column specified. In this case, creditgrade has five levels. When we call get_dummies, we get a dataframe with five columns, each of which describes one of those levels.\n",
    "        * Then join it back to the original dataframe\n",
    "        * Take a look at the dummies and join methods used in this tutorial http://blog.yhat.com/posts/logistic-regression-and-python.html\n",
    "5. Calculate the coefficients\n",
    "6. Calculate the probability of Maria getting a loan"
   ]
  },
  {
   "cell_type": "code",
   "execution_count": null,
   "metadata": {
    "collapsed": true
   },
   "outputs": [],
   "source": []
  }
 ],
 "metadata": {
  "anaconda-cloud": {},
  "kernelspec": {
   "display_name": "Python [default]",
   "language": "python",
   "name": "python3"
  },
  "language_info": {
   "codemirror_mode": {
    "name": "ipython",
    "version": 3
   },
   "file_extension": ".py",
   "mimetype": "text/x-python",
   "name": "python",
   "nbconvert_exporter": "python",
   "pygments_lexer": "ipython3",
   "version": "3.5.2"
  }
 },
 "nbformat": 4,
 "nbformat_minor": 1
}
