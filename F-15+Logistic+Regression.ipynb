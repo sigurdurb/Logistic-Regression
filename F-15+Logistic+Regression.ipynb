{
 "cells": [
  {
   "cell_type": "markdown",
   "metadata": {},
   "source": [
    "# <span style=\"color:#F26835; font-size:34px;\" >Logistic Regression</span>\n",
    "###### <span style=\"color:#A1A1A1;\"> Students: </span>\n",
    "###### <span style=\"color:#A1A1A1;\">Instructor: Magnús Eðvald Björnsson </span>"
   ]
  },
  {
   "cell_type": "markdown",
   "metadata": {},
   "source": [
    "## Question\n",
    "> ###### <span style=\"color:#555;\">What is Regression ? </span>\n"
   ]
  },
  {
   "cell_type": "markdown",
   "metadata": {},
   "source": [
    "Regression is a measure of the relation between the mean value of one variable (e.g., output) and corresponding values of other variables ( time and cost for example)."
   ]
  },
  {
   "cell_type": "markdown",
   "metadata": {},
   "source": [
    "## Question\n",
    "> ###### <span style=\"color:#555;\">What is Logistic Regression ? </span>\n"
   ]
  },
  {
   "cell_type": "markdown",
   "metadata": {},
   "source": [
    "\n",
    "\n",
    "$ m = \\dfrac{ \\overline{xy} - \\bar{x} \\bar{y}} {x_2 - x_1} $\n",
    "\n",
    "or psuedo-code\n",
    "```\n",
    "( meanof(x*y) - (mean_of(x)*mean_of(y)) ) / (mean_of(x^2) - mean_of(x)^2 )\n",
    "\n",
    "```\n"
   ]
  },
  {
   "cell_type": "markdown",
   "metadata": {},
   "source": [
    "## Question \n",
    "> ###### <span style=\"color:#555;\"> How is it calculated ? </span>\n"
   ]
  },
  {
   "cell_type": "markdown",
   "metadata": {},
   "source": []
  },
  {
   "cell_type": "markdown",
   "metadata": {},
   "source": [
    "### <span style=\"color:#498BA6;\">Answer </span>\n",
    "##### Arranging the formula"
   ]
  },
  {
   "cell_type": "markdown",
   "metadata": {},
   "source": [
    "\n",
    "$ \\bar{x} \\text{ and  } \\bar{y}_1 \\text{ blabla  }  $"
   ]
  },
  {
   "cell_type": "markdown",
   "metadata": {},
   "source": [
    "#### <span style=\"color:#F2B33D;\">Verifying Results:</span>\n",
    "\n",
    "Asserting that blabla"
   ]
  },
  {
   "cell_type": "markdown",
   "metadata": {},
   "source": [
    "### <span style=\"color:#B19B7D;\"> A simple example calculated </span>"
   ]
  },
  {
   "cell_type": "code",
   "execution_count": null,
   "metadata": {
    "collapsed": true
   },
   "outputs": [],
   "source": []
  },
  {
   "cell_type": "markdown",
   "metadata": {},
   "source": [
    "## Question\n",
    "> ###### <span style=\"color:#555;\">Why do we need Logistic Regression ? </span>\n"
   ]
  },
  {
   "cell_type": "code",
   "execution_count": null,
   "metadata": {
    "collapsed": true
   },
   "outputs": [],
   "source": []
  }
 ],
 "metadata": {
  "anaconda-cloud": {},
  "kernelspec": {
   "display_name": "Python [conda root]",
   "language": "python",
   "name": "conda-root-py"
  },
  "language_info": {
   "codemirror_mode": {
    "name": "ipython",
    "version": 3
   },
   "file_extension": ".py",
   "mimetype": "text/x-python",
   "name": "python",
   "nbconvert_exporter": "python",
   "pygments_lexer": "ipython3",
   "version": "3.5.2"
  }
 },
 "nbformat": 4,
 "nbformat_minor": 1
}
